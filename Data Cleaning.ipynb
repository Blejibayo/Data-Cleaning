{
 "cells": [
  {
   "cell_type": "code",
   "execution_count": 1,
   "id": "be6f7edb-9987-4d05-b8de-a13eabc6b9d5",
   "metadata": {},
   "outputs": [],
   "source": [
    "import pandas as pd\n",
    "path=r\"C:\\Users\\AYOADE\\Desktop\\data.xlsx\"\n",
    "data=pd.read_excel(path)"
   ]
  },
  {
   "cell_type": "code",
   "execution_count": 2,
   "id": "003ff146-6b3e-4b87-b44e-a66172805b90",
   "metadata": {},
   "outputs": [
    {
     "name": "stdout",
     "output_type": "stream",
     "text": [
      "    Gender  Age Date of birth    Education            Dept  BasePay (1000's)  \\\n",
      "0   Female    1    2004-08-08      College      Operations            42.363   \n",
      "1     Male   21    2002-02-17      College      Management           108.476   \n",
      "2   Female   19    2003-01-07          PhD  Administration            90.208   \n",
      "3     Male   20    2002-02-23      Masters           Sales           108.080   \n",
      "4     Male   26    1996-03-08      Masters     Engineering            99.464   \n",
      "5   Female   20    2003-01-01          PhD      Operations            70.890   \n",
      "6   Female   20    2003-03-23      College           Sales            67.585   \n",
      "7     Male   18    2004-02-15          PhD     Engineering            97.523   \n",
      "8   Female   33    1990-07-01  High School     Engineering           112.976   \n",
      "9   Female   35    1988-05-30      College     Engineering           106.524   \n",
      "10    Male   24    1999-07-30          PhD     Engineering           102.261   \n",
      "11  Female   18    2004-11-02      College      Management            62.759   \n",
      "12  Female   19    2003-10-01      College           Sales            84.007   \n",
      "13  Female   30    1993-03-03      Masters  Administration            86.220   \n",
      "14  Female   35    1988-01-01          PhD      Operations            95.584   \n",
      "15  Female   27    1995-03-23          PhD      Management            73.357   \n",
      "16  Female   23    2000-12-26          PhD  Administration            88.422   \n",
      "17  Female   24    1999-09-08      College  Administration            99.545   \n",
      "18    Male   21    2002-05-05  High School     Engineering            90.386   \n",
      "\n",
      "    Executive  Bonus Percentage Active        Performance  Unnamed: 10  \\\n",
      "0           0             0.100   True       Satisfactory          NaN   \n",
      "1           1             0.020   True               Poor          NaN   \n",
      "2           1             0.030   True       Satisfactory          NaN   \n",
      "3           0             0.070  False        Outstanding          NaN   \n",
      "4           1             0.030   True       Satisfactory          NaN   \n",
      "5           0             0.020   True     Unsatisfactory          NaN   \n",
      "6           0             0.120   True  Very satisfactory          NaN   \n",
      "7           1             0.110   True       Satisfactory          NaN   \n",
      "8           1             0.070   True        Outstanding          NaN   \n",
      "9           1             0.030  False     Unsatisfactory          NaN   \n",
      "10          1             0.010   True  Very satisfactory          NaN   \n",
      "11          0             0.110   True        Outstanding          NaN   \n",
      "12          0             0.040   True  Very satisfactory          NaN   \n",
      "13          1             0.050   True       Satisfactory          NaN   \n",
      "14          0             0.050   True               Poor          NaN   \n",
      "15          0             0.070   True        Outstanding          NaN   \n",
      "16          1             0.030   True        Outstanding          NaN   \n",
      "17          1             0.015   True  Very satisfactory          NaN   \n",
      "18          1             0.040  FASLE       Satisfactory          NaN   \n",
      "\n",
      "    Basepay in1000  BasePay+BonusPercentage  Unnamed: 13        Unnamed: 14  \\\n",
      "0            42363                46599.300          NaN                NaN   \n",
      "1           108476               110645.520          NaN             COUNTA   \n",
      "2            90208                92914.240          NaN              COUNT   \n",
      "3           108080               115645.600          NaN        AVERAGE AGE   \n",
      "4            99464               102447.920          NaN      TOTAL BASEPAY   \n",
      "5            70890                72307.800          NaN     AVERAGE BASE.P   \n",
      "6            67585                75695.200          NaN      MEDIAN BASE.P   \n",
      "7            97523               108250.530          NaN         MIN BASE,P   \n",
      "8           112976               120884.320          NaN         MAX BASE.P   \n",
      "9           106524               109719.720          NaN        NO of Male    \n",
      "10          102261               103283.610          NaN       NO of Female   \n",
      "11           62759                69662.490          NaN  Gender Ratio(F/M)   \n",
      "12           84007                87367.280          NaN                 GR   \n",
      "13           86220                90531.000          NaN                NaN   \n",
      "14           95584               100363.200          NaN                NaN   \n",
      "15           73357                78491.990          NaN                NaN   \n",
      "16           88422                91074.660          NaN                NaN   \n",
      "17           99545               101038.175          NaN                NaN   \n",
      "18           90386                94001.440          NaN                NaN   \n",
      "\n",
      "   Unnamed: 15        Unnamed: 16  Unnamed: 17  \n",
      "0          NaN                NaN          NaN  \n",
      "1           19                NaN          NaN  \n",
      "2           19                NaN          NaN  \n",
      "3    22.842105                NaN          NaN  \n",
      "4      1686.63  TotalBP in 1000's    1686630.0  \n",
      "5        88.77                NaN          NaN  \n",
      "6       90.386                NaN          NaN  \n",
      "7       42.363                NaN          NaN  \n",
      "8      112.976                NaN          NaN  \n",
      "9            6                NaN          NaN  \n",
      "10          13                NaN          NaN  \n",
      "11    2.166667           2.166667          NaN  \n",
      "12    13:06:00                NaN          NaN  \n",
      "13         NaN                NaN          NaN  \n",
      "14         NaN                NaN          NaN  \n",
      "15         NaN                NaN          NaN  \n",
      "16         NaN                NaN          NaN  \n",
      "17         NaN                NaN          NaN  \n",
      "18         NaN                NaN          NaN  \n"
     ]
    }
   ],
   "source": [
    "print(data)"
   ]
  },
  {
   "cell_type": "code",
   "execution_count": 3,
   "id": "2a1b2077-9102-4ccd-b7f3-e817a47423c0",
   "metadata": {},
   "outputs": [
    {
     "data": {
      "text/plain": [
       "(19, 18)"
      ]
     },
     "execution_count": 3,
     "metadata": {},
     "output_type": "execute_result"
    }
   ],
   "source": [
    "data.shape"
   ]
  },
  {
   "cell_type": "code",
   "execution_count": 4,
   "id": "0dcf8f48-24de-4b1b-85ca-80f8e59b89cf",
   "metadata": {},
   "outputs": [
    {
     "data": {
      "text/plain": [
       "Index(['Gender', 'Age', 'Date of birth', 'Education', 'Dept',\n",
       "       'BasePay (1000's)', 'Executive', 'Bonus Percentage', 'Active',\n",
       "       'Performance', 'Unnamed: 10', 'Basepay in1000',\n",
       "       'BasePay+BonusPercentage', 'Unnamed: 13', 'Unnamed: 14', 'Unnamed: 15',\n",
       "       'Unnamed: 16', 'Unnamed: 17'],\n",
       "      dtype='object')"
      ]
     },
     "execution_count": 4,
     "metadata": {},
     "output_type": "execute_result"
    }
   ],
   "source": [
    "data.columns"
   ]
  },
  {
   "cell_type": "code",
   "execution_count": 5,
   "id": "99a4dc66-7fe7-43e2-8e28-077f3c192591",
   "metadata": {},
   "outputs": [],
   "source": [
    "X=['Date of birth','BasePay+BonusPercentage','Unnamed: 17']"
   ]
  },
  {
   "cell_type": "code",
   "execution_count": 6,
   "id": "a3ec1750-d2f8-43d2-8348-55a7908815de",
   "metadata": {},
   "outputs": [],
   "source": [
    "data.drop(X,axis=1,inplace=True)"
   ]
  },
  {
   "cell_type": "code",
   "execution_count": 7,
   "id": "94339de5-7c68-4ae8-9479-99d58f9882d9",
   "metadata": {},
   "outputs": [
    {
     "data": {
      "text/html": [
       "<div>\n",
       "<style scoped>\n",
       "    .dataframe tbody tr th:only-of-type {\n",
       "        vertical-align: middle;\n",
       "    }\n",
       "\n",
       "    .dataframe tbody tr th {\n",
       "        vertical-align: top;\n",
       "    }\n",
       "\n",
       "    .dataframe thead th {\n",
       "        text-align: right;\n",
       "    }\n",
       "</style>\n",
       "<table border=\"1\" class=\"dataframe\">\n",
       "  <thead>\n",
       "    <tr style=\"text-align: right;\">\n",
       "      <th></th>\n",
       "      <th>Gender</th>\n",
       "      <th>Age</th>\n",
       "      <th>Education</th>\n",
       "      <th>Dept</th>\n",
       "      <th>BasePay (1000's)</th>\n",
       "      <th>Executive</th>\n",
       "      <th>Bonus Percentage</th>\n",
       "      <th>Active</th>\n",
       "      <th>Performance</th>\n",
       "      <th>Unnamed: 10</th>\n",
       "      <th>Basepay in1000</th>\n",
       "      <th>Unnamed: 13</th>\n",
       "      <th>Unnamed: 14</th>\n",
       "      <th>Unnamed: 15</th>\n",
       "      <th>Unnamed: 16</th>\n",
       "    </tr>\n",
       "  </thead>\n",
       "  <tbody>\n",
       "    <tr>\n",
       "      <th>10</th>\n",
       "      <td>Male</td>\n",
       "      <td>24</td>\n",
       "      <td>PhD</td>\n",
       "      <td>Engineering</td>\n",
       "      <td>102.261</td>\n",
       "      <td>1</td>\n",
       "      <td>0.01</td>\n",
       "      <td>True</td>\n",
       "      <td>Very satisfactory</td>\n",
       "      <td>NaN</td>\n",
       "      <td>102261</td>\n",
       "      <td>NaN</td>\n",
       "      <td>NO of Female</td>\n",
       "      <td>13</td>\n",
       "      <td>NaN</td>\n",
       "    </tr>\n",
       "    <tr>\n",
       "      <th>0</th>\n",
       "      <td>Female</td>\n",
       "      <td>1</td>\n",
       "      <td>College</td>\n",
       "      <td>Operations</td>\n",
       "      <td>42.363</td>\n",
       "      <td>0</td>\n",
       "      <td>0.10</td>\n",
       "      <td>True</td>\n",
       "      <td>Satisfactory</td>\n",
       "      <td>NaN</td>\n",
       "      <td>42363</td>\n",
       "      <td>NaN</td>\n",
       "      <td>NaN</td>\n",
       "      <td>NaN</td>\n",
       "      <td>NaN</td>\n",
       "    </tr>\n",
       "    <tr>\n",
       "      <th>4</th>\n",
       "      <td>Male</td>\n",
       "      <td>26</td>\n",
       "      <td>Masters</td>\n",
       "      <td>Engineering</td>\n",
       "      <td>99.464</td>\n",
       "      <td>1</td>\n",
       "      <td>0.03</td>\n",
       "      <td>True</td>\n",
       "      <td>Satisfactory</td>\n",
       "      <td>NaN</td>\n",
       "      <td>99464</td>\n",
       "      <td>NaN</td>\n",
       "      <td>TOTAL BASEPAY</td>\n",
       "      <td>1686.63</td>\n",
       "      <td>TotalBP in 1000's</td>\n",
       "    </tr>\n",
       "    <tr>\n",
       "      <th>15</th>\n",
       "      <td>Female</td>\n",
       "      <td>27</td>\n",
       "      <td>PhD</td>\n",
       "      <td>Management</td>\n",
       "      <td>73.357</td>\n",
       "      <td>0</td>\n",
       "      <td>0.07</td>\n",
       "      <td>True</td>\n",
       "      <td>Outstanding</td>\n",
       "      <td>NaN</td>\n",
       "      <td>73357</td>\n",
       "      <td>NaN</td>\n",
       "      <td>NaN</td>\n",
       "      <td>NaN</td>\n",
       "      <td>NaN</td>\n",
       "    </tr>\n",
       "  </tbody>\n",
       "</table>\n",
       "</div>"
      ],
      "text/plain": [
       "    Gender  Age Education         Dept  BasePay (1000's)  Executive  \\\n",
       "10    Male   24       PhD  Engineering           102.261          1   \n",
       "0   Female    1   College   Operations            42.363          0   \n",
       "4     Male   26   Masters  Engineering            99.464          1   \n",
       "15  Female   27       PhD   Management            73.357          0   \n",
       "\n",
       "    Bonus Percentage Active        Performance  Unnamed: 10  Basepay in1000  \\\n",
       "10              0.01   True  Very satisfactory          NaN          102261   \n",
       "0               0.10   True       Satisfactory          NaN           42363   \n",
       "4               0.03   True       Satisfactory          NaN           99464   \n",
       "15              0.07   True        Outstanding          NaN           73357   \n",
       "\n",
       "    Unnamed: 13    Unnamed: 14 Unnamed: 15        Unnamed: 16  \n",
       "10          NaN   NO of Female          13                NaN  \n",
       "0           NaN            NaN         NaN                NaN  \n",
       "4           NaN  TOTAL BASEPAY     1686.63  TotalBP in 1000's  \n",
       "15          NaN            NaN         NaN                NaN  "
      ]
     },
     "execution_count": 7,
     "metadata": {},
     "output_type": "execute_result"
    }
   ],
   "source": [
    "data.sample(4)"
   ]
  },
  {
   "cell_type": "code",
   "execution_count": 8,
   "id": "9e9e2e07-e82d-4fa2-8d0a-32c149b7245f",
   "metadata": {},
   "outputs": [
    {
     "data": {
      "text/plain": [
       "(19, 15)"
      ]
     },
     "execution_count": 8,
     "metadata": {},
     "output_type": "execute_result"
    }
   ],
   "source": [
    "data.shape"
   ]
  },
  {
   "cell_type": "code",
   "execution_count": 9,
   "id": "c8149b3a-8706-400b-a7a7-0bfca02103aa",
   "metadata": {},
   "outputs": [
    {
     "data": {
      "text/plain": [
       "Gender               0\n",
       "Age                  0\n",
       "Education            0\n",
       "Dept                 0\n",
       "BasePay (1000's)     0\n",
       "Executive            0\n",
       "Bonus Percentage     0\n",
       "Active               0\n",
       "Performance          0\n",
       "Unnamed: 10         19\n",
       "Basepay in1000       0\n",
       "Unnamed: 13         19\n",
       "Unnamed: 14          7\n",
       "Unnamed: 15          7\n",
       "Unnamed: 16         17\n",
       "dtype: int64"
      ]
     },
     "execution_count": 9,
     "metadata": {},
     "output_type": "execute_result"
    }
   ],
   "source": [
    "data.isna().sum()"
   ]
  },
  {
   "cell_type": "code",
   "execution_count": 10,
   "id": "abd3178b-c815-468b-a9c1-9bdb4b7535eb",
   "metadata": {},
   "outputs": [
    {
     "name": "stdout",
     "output_type": "stream",
     "text": [
      "<class 'pandas.core.frame.DataFrame'>\n",
      "RangeIndex: 19 entries, 0 to 18\n",
      "Data columns (total 15 columns):\n",
      " #   Column            Non-Null Count  Dtype  \n",
      "---  ------            --------------  -----  \n",
      " 0   Gender            19 non-null     object \n",
      " 1   Age               19 non-null     int64  \n",
      " 2   Education         19 non-null     object \n",
      " 3   Dept              19 non-null     object \n",
      " 4   BasePay (1000's)  19 non-null     float64\n",
      " 5   Executive         19 non-null     int64  \n",
      " 6   Bonus Percentage  19 non-null     float64\n",
      " 7   Active            19 non-null     object \n",
      " 8   Performance       19 non-null     object \n",
      " 9   Unnamed: 10       0 non-null      float64\n",
      " 10  Basepay in1000    19 non-null     int64  \n",
      " 11  Unnamed: 13       0 non-null      float64\n",
      " 12  Unnamed: 14       12 non-null     object \n",
      " 13  Unnamed: 15       12 non-null     object \n",
      " 14  Unnamed: 16       2 non-null      object \n",
      "dtypes: float64(4), int64(3), object(8)\n",
      "memory usage: 2.4+ KB\n"
     ]
    }
   ],
   "source": [
    "data.info()"
   ]
  },
  {
   "cell_type": "code",
   "execution_count": 11,
   "id": "4868dcf0-053d-4712-94fd-58d0c3bcb3dd",
   "metadata": {},
   "outputs": [
    {
     "name": "stderr",
     "output_type": "stream",
     "text": [
      "C:\\Users\\AYOADE\\AppData\\Local\\Temp\\ipykernel_5204\\2804309081.py:1: FutureWarning: DataFrame.fillna with 'method' is deprecated and will raise in a future version. Use obj.ffill() or obj.bfill() instead.\n",
      "  data.fillna(method = 'ffill',inplace=True)\n"
     ]
    }
   ],
   "source": [
    "data.fillna(method = 'ffill',inplace=True)"
   ]
  },
  {
   "cell_type": "code",
   "execution_count": 12,
   "id": "67eb59c6-3d69-46fb-9d11-afffa0fb4887",
   "metadata": {},
   "outputs": [
    {
     "data": {
      "text/plain": [
       "Gender               0\n",
       "Age                  0\n",
       "Education            0\n",
       "Dept                 0\n",
       "BasePay (1000's)     0\n",
       "Executive            0\n",
       "Bonus Percentage     0\n",
       "Active               0\n",
       "Performance          0\n",
       "Unnamed: 10         19\n",
       "Basepay in1000       0\n",
       "Unnamed: 13         19\n",
       "Unnamed: 14          1\n",
       "Unnamed: 15          1\n",
       "Unnamed: 16          4\n",
       "dtype: int64"
      ]
     },
     "execution_count": 12,
     "metadata": {},
     "output_type": "execute_result"
    }
   ],
   "source": [
    "data.isna().sum()"
   ]
  },
  {
   "cell_type": "code",
   "execution_count": 13,
   "id": "75cafe81-b604-417b-90b2-51b0b40d583c",
   "metadata": {},
   "outputs": [
    {
     "name": "stderr",
     "output_type": "stream",
     "text": [
      "C:\\Users\\AYOADE\\AppData\\Local\\Temp\\ipykernel_5204\\376578928.py:1: FutureWarning: DataFrame.fillna with 'method' is deprecated and will raise in a future version. Use obj.ffill() or obj.bfill() instead.\n",
      "  data.fillna(method = 'bfill',inplace=True)\n"
     ]
    }
   ],
   "source": [
    "data.fillna(method = 'bfill',inplace=True)"
   ]
  },
  {
   "cell_type": "code",
   "execution_count": 14,
   "id": "27b1e613-89aa-41a2-a75f-9559807a45ba",
   "metadata": {},
   "outputs": [
    {
     "data": {
      "text/html": [
       "<div>\n",
       "<style scoped>\n",
       "    .dataframe tbody tr th:only-of-type {\n",
       "        vertical-align: middle;\n",
       "    }\n",
       "\n",
       "    .dataframe tbody tr th {\n",
       "        vertical-align: top;\n",
       "    }\n",
       "\n",
       "    .dataframe thead th {\n",
       "        text-align: right;\n",
       "    }\n",
       "</style>\n",
       "<table border=\"1\" class=\"dataframe\">\n",
       "  <thead>\n",
       "    <tr style=\"text-align: right;\">\n",
       "      <th></th>\n",
       "      <th>Gender</th>\n",
       "      <th>Age</th>\n",
       "      <th>Education</th>\n",
       "      <th>Dept</th>\n",
       "      <th>BasePay (1000's)</th>\n",
       "      <th>Executive</th>\n",
       "      <th>Bonus Percentage</th>\n",
       "      <th>Active</th>\n",
       "      <th>Performance</th>\n",
       "      <th>Unnamed: 10</th>\n",
       "      <th>Basepay in1000</th>\n",
       "      <th>Unnamed: 13</th>\n",
       "      <th>Unnamed: 14</th>\n",
       "      <th>Unnamed: 15</th>\n",
       "      <th>Unnamed: 16</th>\n",
       "    </tr>\n",
       "  </thead>\n",
       "  <tbody>\n",
       "    <tr>\n",
       "      <th>7</th>\n",
       "      <td>Male</td>\n",
       "      <td>18</td>\n",
       "      <td>PhD</td>\n",
       "      <td>Engineering</td>\n",
       "      <td>97.523</td>\n",
       "      <td>1</td>\n",
       "      <td>0.11</td>\n",
       "      <td>True</td>\n",
       "      <td>Satisfactory</td>\n",
       "      <td>NaN</td>\n",
       "      <td>97523</td>\n",
       "      <td>NaN</td>\n",
       "      <td>MIN BASE,P</td>\n",
       "      <td>42.363</td>\n",
       "      <td>TotalBP in 1000's</td>\n",
       "    </tr>\n",
       "    <tr>\n",
       "      <th>8</th>\n",
       "      <td>Female</td>\n",
       "      <td>33</td>\n",
       "      <td>High School</td>\n",
       "      <td>Engineering</td>\n",
       "      <td>112.976</td>\n",
       "      <td>1</td>\n",
       "      <td>0.07</td>\n",
       "      <td>True</td>\n",
       "      <td>Outstanding</td>\n",
       "      <td>NaN</td>\n",
       "      <td>112976</td>\n",
       "      <td>NaN</td>\n",
       "      <td>MAX BASE.P</td>\n",
       "      <td>112.976</td>\n",
       "      <td>TotalBP in 1000's</td>\n",
       "    </tr>\n",
       "  </tbody>\n",
       "</table>\n",
       "</div>"
      ],
      "text/plain": [
       "   Gender  Age    Education         Dept  BasePay (1000's)  Executive  \\\n",
       "7    Male   18          PhD  Engineering            97.523          1   \n",
       "8  Female   33  High School  Engineering           112.976          1   \n",
       "\n",
       "   Bonus Percentage Active   Performance  Unnamed: 10  Basepay in1000  \\\n",
       "7              0.11   True  Satisfactory          NaN           97523   \n",
       "8              0.07   True   Outstanding          NaN          112976   \n",
       "\n",
       "   Unnamed: 13 Unnamed: 14 Unnamed: 15        Unnamed: 16  \n",
       "7          NaN  MIN BASE,P      42.363  TotalBP in 1000's  \n",
       "8          NaN  MAX BASE.P     112.976  TotalBP in 1000's  "
      ]
     },
     "execution_count": 14,
     "metadata": {},
     "output_type": "execute_result"
    }
   ],
   "source": [
    "data.sample(2)"
   ]
  },
  {
   "cell_type": "code",
   "execution_count": 15,
   "id": "2b30ac45-4842-46dc-9a36-a16c482bf903",
   "metadata": {},
   "outputs": [
    {
     "data": {
      "text/plain": [
       "Gender               0\n",
       "Age                  0\n",
       "Education            0\n",
       "Dept                 0\n",
       "BasePay (1000's)     0\n",
       "Executive            0\n",
       "Bonus Percentage     0\n",
       "Active               0\n",
       "Performance          0\n",
       "Unnamed: 10         19\n",
       "Basepay in1000       0\n",
       "Unnamed: 13         19\n",
       "Unnamed: 14          0\n",
       "Unnamed: 15          0\n",
       "Unnamed: 16          0\n",
       "dtype: int64"
      ]
     },
     "execution_count": 15,
     "metadata": {},
     "output_type": "execute_result"
    }
   ],
   "source": [
    "data.isna().sum()"
   ]
  },
  {
   "cell_type": "code",
   "execution_count": 16,
   "id": "0daae6a0-8dd1-4b6e-bc88-f5b1c4c3fc38",
   "metadata": {},
   "outputs": [
    {
     "data": {
      "text/plain": [
       "0     Female\n",
       "1       Male\n",
       "2     Female\n",
       "3       Male\n",
       "4       Male\n",
       "5     Female\n",
       "6     Female\n",
       "7       Male\n",
       "8     Female\n",
       "9     Female\n",
       "10      Male\n",
       "11    Female\n",
       "12    Female\n",
       "13    Female\n",
       "14    Female\n",
       "15    Female\n",
       "16    Female\n",
       "17    Female\n",
       "18      Male\n",
       "Name: Gender, dtype: object"
      ]
     },
     "execution_count": 16,
     "metadata": {},
     "output_type": "execute_result"
    }
   ],
   "source": [
    "data.Gender"
   ]
  },
  {
   "cell_type": "code",
   "execution_count": 17,
   "id": "a82ddf64-72a9-4564-8c2c-f9aa0918e303",
   "metadata": {},
   "outputs": [
    {
     "data": {
      "text/plain": [
       "Gender\n",
       "Female    13\n",
       "Male       6\n",
       "Name: count, dtype: int64"
      ]
     },
     "execution_count": 17,
     "metadata": {},
     "output_type": "execute_result"
    }
   ],
   "source": [
    "data.Gender.value_counts()"
   ]
  },
  {
   "cell_type": "code",
   "execution_count": 20,
   "id": "72122c83-d9ac-4baf-91c9-ecc387044450",
   "metadata": {},
   "outputs": [],
   "source": [
    "X=['Unnamed: 10','Unnamed: 13']"
   ]
  },
  {
   "cell_type": "code",
   "execution_count": 21,
   "id": "3c70e8c1-936e-448f-a114-b25cb45f6c84",
   "metadata": {},
   "outputs": [],
   "source": [
    "data.drop(X,axis=1,inplace=True)"
   ]
  },
  {
   "cell_type": "code",
   "execution_count": 22,
   "id": "2cdacdd1-bbf4-4103-bd51-e6c53ef9dddf",
   "metadata": {},
   "outputs": [
    {
     "data": {
      "text/html": [
       "<div>\n",
       "<style scoped>\n",
       "    .dataframe tbody tr th:only-of-type {\n",
       "        vertical-align: middle;\n",
       "    }\n",
       "\n",
       "    .dataframe tbody tr th {\n",
       "        vertical-align: top;\n",
       "    }\n",
       "\n",
       "    .dataframe thead th {\n",
       "        text-align: right;\n",
       "    }\n",
       "</style>\n",
       "<table border=\"1\" class=\"dataframe\">\n",
       "  <thead>\n",
       "    <tr style=\"text-align: right;\">\n",
       "      <th></th>\n",
       "      <th>Gender</th>\n",
       "      <th>Age</th>\n",
       "      <th>Education</th>\n",
       "      <th>Dept</th>\n",
       "      <th>BasePay (1000's)</th>\n",
       "      <th>Executive</th>\n",
       "      <th>Bonus Percentage</th>\n",
       "      <th>Active</th>\n",
       "      <th>Performance</th>\n",
       "      <th>Basepay in1000</th>\n",
       "      <th>Unnamed: 14</th>\n",
       "      <th>Unnamed: 15</th>\n",
       "      <th>Unnamed: 16</th>\n",
       "    </tr>\n",
       "  </thead>\n",
       "  <tbody>\n",
       "    <tr>\n",
       "      <th>16</th>\n",
       "      <td>Female</td>\n",
       "      <td>23</td>\n",
       "      <td>PhD</td>\n",
       "      <td>Administration</td>\n",
       "      <td>88.422</td>\n",
       "      <td>1</td>\n",
       "      <td>0.030</td>\n",
       "      <td>True</td>\n",
       "      <td>Outstanding</td>\n",
       "      <td>88422</td>\n",
       "      <td>GR</td>\n",
       "      <td>13:06:00</td>\n",
       "      <td>2.166667</td>\n",
       "    </tr>\n",
       "    <tr>\n",
       "      <th>5</th>\n",
       "      <td>Female</td>\n",
       "      <td>20</td>\n",
       "      <td>PhD</td>\n",
       "      <td>Operations</td>\n",
       "      <td>70.890</td>\n",
       "      <td>0</td>\n",
       "      <td>0.020</td>\n",
       "      <td>True</td>\n",
       "      <td>Unsatisfactory</td>\n",
       "      <td>70890</td>\n",
       "      <td>AVERAGE BASE.P</td>\n",
       "      <td>88.77</td>\n",
       "      <td>TotalBP in 1000's</td>\n",
       "    </tr>\n",
       "    <tr>\n",
       "      <th>17</th>\n",
       "      <td>Female</td>\n",
       "      <td>24</td>\n",
       "      <td>College</td>\n",
       "      <td>Administration</td>\n",
       "      <td>99.545</td>\n",
       "      <td>1</td>\n",
       "      <td>0.015</td>\n",
       "      <td>True</td>\n",
       "      <td>Very satisfactory</td>\n",
       "      <td>99545</td>\n",
       "      <td>GR</td>\n",
       "      <td>13:06:00</td>\n",
       "      <td>2.166667</td>\n",
       "    </tr>\n",
       "    <tr>\n",
       "      <th>18</th>\n",
       "      <td>Male</td>\n",
       "      <td>21</td>\n",
       "      <td>High School</td>\n",
       "      <td>Engineering</td>\n",
       "      <td>90.386</td>\n",
       "      <td>1</td>\n",
       "      <td>0.040</td>\n",
       "      <td>FASLE</td>\n",
       "      <td>Satisfactory</td>\n",
       "      <td>90386</td>\n",
       "      <td>GR</td>\n",
       "      <td>13:06:00</td>\n",
       "      <td>2.166667</td>\n",
       "    </tr>\n",
       "  </tbody>\n",
       "</table>\n",
       "</div>"
      ],
      "text/plain": [
       "    Gender  Age    Education            Dept  BasePay (1000's)  Executive  \\\n",
       "16  Female   23          PhD  Administration            88.422          1   \n",
       "5   Female   20          PhD      Operations            70.890          0   \n",
       "17  Female   24      College  Administration            99.545          1   \n",
       "18    Male   21  High School     Engineering            90.386          1   \n",
       "\n",
       "    Bonus Percentage Active        Performance  Basepay in1000  \\\n",
       "16             0.030   True        Outstanding           88422   \n",
       "5              0.020   True     Unsatisfactory           70890   \n",
       "17             0.015   True  Very satisfactory           99545   \n",
       "18             0.040  FASLE       Satisfactory           90386   \n",
       "\n",
       "       Unnamed: 14 Unnamed: 15        Unnamed: 16  \n",
       "16              GR    13:06:00           2.166667  \n",
       "5   AVERAGE BASE.P       88.77  TotalBP in 1000's  \n",
       "17              GR    13:06:00           2.166667  \n",
       "18              GR    13:06:00           2.166667  "
      ]
     },
     "execution_count": 22,
     "metadata": {},
     "output_type": "execute_result"
    }
   ],
   "source": [
    "data.sample(4)"
   ]
  },
  {
   "cell_type": "code",
   "execution_count": 23,
   "id": "b3334680-5a41-43b5-9423-fa76c421397e",
   "metadata": {},
   "outputs": [
    {
     "data": {
      "text/plain": [
       "(19, 13)"
      ]
     },
     "execution_count": 23,
     "metadata": {},
     "output_type": "execute_result"
    }
   ],
   "source": [
    "data.shape"
   ]
  },
  {
   "cell_type": "code",
   "execution_count": 24,
   "id": "16b18124-f2df-4fce-8743-6e51ed18170d",
   "metadata": {},
   "outputs": [
    {
     "data": {
      "text/plain": [
       "Gender              0\n",
       "Age                 0\n",
       "Education           0\n",
       "Dept                0\n",
       "BasePay (1000's)    0\n",
       "Executive           0\n",
       "Bonus Percentage    0\n",
       "Active              0\n",
       "Performance         0\n",
       "Basepay in1000      0\n",
       "Unnamed: 14         0\n",
       "Unnamed: 15         0\n",
       "Unnamed: 16         0\n",
       "dtype: int64"
      ]
     },
     "execution_count": 24,
     "metadata": {},
     "output_type": "execute_result"
    }
   ],
   "source": [
    "data.isna().sum()"
   ]
  },
  {
   "cell_type": "code",
   "execution_count": 27,
   "id": "cdbda107-b19f-4801-8588-dd521526074d",
   "metadata": {},
   "outputs": [],
   "source": [
    "data.rename(columns={\"Unnamed: 14\":\"Rough\"},inplace=True)"
   ]
  },
  {
   "cell_type": "code",
   "execution_count": 28,
   "id": "71552b5e-608f-46e8-9f1e-362df37a47df",
   "metadata": {},
   "outputs": [
    {
     "data": {
      "text/html": [
       "<div>\n",
       "<style scoped>\n",
       "    .dataframe tbody tr th:only-of-type {\n",
       "        vertical-align: middle;\n",
       "    }\n",
       "\n",
       "    .dataframe tbody tr th {\n",
       "        vertical-align: top;\n",
       "    }\n",
       "\n",
       "    .dataframe thead th {\n",
       "        text-align: right;\n",
       "    }\n",
       "</style>\n",
       "<table border=\"1\" class=\"dataframe\">\n",
       "  <thead>\n",
       "    <tr style=\"text-align: right;\">\n",
       "      <th></th>\n",
       "      <th>Gender</th>\n",
       "      <th>Age</th>\n",
       "      <th>Education</th>\n",
       "      <th>Dept</th>\n",
       "      <th>BasePay (1000's)</th>\n",
       "      <th>Executive</th>\n",
       "      <th>Bonus Percentage</th>\n",
       "      <th>Active</th>\n",
       "      <th>Performance</th>\n",
       "      <th>Basepay in1000</th>\n",
       "      <th>Rough</th>\n",
       "      <th>Unnamed: 15</th>\n",
       "      <th>Unnamed: 16</th>\n",
       "    </tr>\n",
       "  </thead>\n",
       "  <tbody>\n",
       "    <tr>\n",
       "      <th>0</th>\n",
       "      <td>Female</td>\n",
       "      <td>1</td>\n",
       "      <td>College</td>\n",
       "      <td>Operations</td>\n",
       "      <td>42.363</td>\n",
       "      <td>0</td>\n",
       "      <td>0.10</td>\n",
       "      <td>True</td>\n",
       "      <td>Satisfactory</td>\n",
       "      <td>42363</td>\n",
       "      <td>COUNTA</td>\n",
       "      <td>19</td>\n",
       "      <td>TotalBP in 1000's</td>\n",
       "    </tr>\n",
       "    <tr>\n",
       "      <th>1</th>\n",
       "      <td>Male</td>\n",
       "      <td>21</td>\n",
       "      <td>College</td>\n",
       "      <td>Management</td>\n",
       "      <td>108.476</td>\n",
       "      <td>1</td>\n",
       "      <td>0.02</td>\n",
       "      <td>True</td>\n",
       "      <td>Poor</td>\n",
       "      <td>108476</td>\n",
       "      <td>COUNTA</td>\n",
       "      <td>19</td>\n",
       "      <td>TotalBP in 1000's</td>\n",
       "    </tr>\n",
       "  </tbody>\n",
       "</table>\n",
       "</div>"
      ],
      "text/plain": [
       "   Gender  Age Education        Dept  BasePay (1000's)  Executive  \\\n",
       "0  Female    1   College  Operations            42.363          0   \n",
       "1    Male   21   College  Management           108.476          1   \n",
       "\n",
       "   Bonus Percentage Active   Performance  Basepay in1000   Rough Unnamed: 15  \\\n",
       "0              0.10   True  Satisfactory           42363  COUNTA          19   \n",
       "1              0.02   True          Poor          108476  COUNTA          19   \n",
       "\n",
       "         Unnamed: 16  \n",
       "0  TotalBP in 1000's  \n",
       "1  TotalBP in 1000's  "
      ]
     },
     "execution_count": 28,
     "metadata": {},
     "output_type": "execute_result"
    }
   ],
   "source": [
    "data.head(2)"
   ]
  },
  {
   "cell_type": "code",
   "execution_count": 29,
   "id": "994f4eed-b5c3-4eaa-8038-1976c372682e",
   "metadata": {},
   "outputs": [
    {
     "data": {
      "text/html": [
       "<div>\n",
       "<style scoped>\n",
       "    .dataframe tbody tr th:only-of-type {\n",
       "        vertical-align: middle;\n",
       "    }\n",
       "\n",
       "    .dataframe tbody tr th {\n",
       "        vertical-align: top;\n",
       "    }\n",
       "\n",
       "    .dataframe thead th {\n",
       "        text-align: right;\n",
       "    }\n",
       "</style>\n",
       "<table border=\"1\" class=\"dataframe\">\n",
       "  <thead>\n",
       "    <tr style=\"text-align: right;\">\n",
       "      <th></th>\n",
       "      <th>Gender</th>\n",
       "      <th>Age</th>\n",
       "      <th>Education</th>\n",
       "      <th>Dept</th>\n",
       "      <th>BasePay (1000's)</th>\n",
       "      <th>Executive</th>\n",
       "      <th>Bonus Percentage</th>\n",
       "      <th>Active</th>\n",
       "      <th>Performance</th>\n",
       "      <th>Basepay in1000</th>\n",
       "      <th>Rough</th>\n",
       "      <th>Unnamed: 15</th>\n",
       "      <th>Unnamed: 16</th>\n",
       "    </tr>\n",
       "  </thead>\n",
       "  <tbody>\n",
       "    <tr>\n",
       "      <th>15</th>\n",
       "      <td>Female</td>\n",
       "      <td>27</td>\n",
       "      <td>PhD</td>\n",
       "      <td>Management</td>\n",
       "      <td>73.357</td>\n",
       "      <td>0</td>\n",
       "      <td>0.07</td>\n",
       "      <td>True</td>\n",
       "      <td>Outstanding</td>\n",
       "      <td>73357</td>\n",
       "      <td>GR</td>\n",
       "      <td>13:06:00</td>\n",
       "      <td>2.166667</td>\n",
       "    </tr>\n",
       "    <tr>\n",
       "      <th>4</th>\n",
       "      <td>Male</td>\n",
       "      <td>26</td>\n",
       "      <td>Masters</td>\n",
       "      <td>Engineering</td>\n",
       "      <td>99.464</td>\n",
       "      <td>1</td>\n",
       "      <td>0.03</td>\n",
       "      <td>True</td>\n",
       "      <td>Satisfactory</td>\n",
       "      <td>99464</td>\n",
       "      <td>TOTAL BASEPAY</td>\n",
       "      <td>1686.63</td>\n",
       "      <td>TotalBP in 1000's</td>\n",
       "    </tr>\n",
       "    <tr>\n",
       "      <th>9</th>\n",
       "      <td>Female</td>\n",
       "      <td>35</td>\n",
       "      <td>College</td>\n",
       "      <td>Engineering</td>\n",
       "      <td>106.524</td>\n",
       "      <td>1</td>\n",
       "      <td>0.03</td>\n",
       "      <td>False</td>\n",
       "      <td>Unsatisfactory</td>\n",
       "      <td>106524</td>\n",
       "      <td>NO of Male</td>\n",
       "      <td>6</td>\n",
       "      <td>TotalBP in 1000's</td>\n",
       "    </tr>\n",
       "    <tr>\n",
       "      <th>8</th>\n",
       "      <td>Female</td>\n",
       "      <td>33</td>\n",
       "      <td>High School</td>\n",
       "      <td>Engineering</td>\n",
       "      <td>112.976</td>\n",
       "      <td>1</td>\n",
       "      <td>0.07</td>\n",
       "      <td>True</td>\n",
       "      <td>Outstanding</td>\n",
       "      <td>112976</td>\n",
       "      <td>MAX BASE.P</td>\n",
       "      <td>112.976</td>\n",
       "      <td>TotalBP in 1000's</td>\n",
       "    </tr>\n",
       "    <tr>\n",
       "      <th>3</th>\n",
       "      <td>Male</td>\n",
       "      <td>20</td>\n",
       "      <td>Masters</td>\n",
       "      <td>Sales</td>\n",
       "      <td>108.080</td>\n",
       "      <td>0</td>\n",
       "      <td>0.07</td>\n",
       "      <td>False</td>\n",
       "      <td>Outstanding</td>\n",
       "      <td>108080</td>\n",
       "      <td>AVERAGE AGE</td>\n",
       "      <td>22.842105</td>\n",
       "      <td>TotalBP in 1000's</td>\n",
       "    </tr>\n",
       "  </tbody>\n",
       "</table>\n",
       "</div>"
      ],
      "text/plain": [
       "    Gender  Age    Education         Dept  BasePay (1000's)  Executive  \\\n",
       "15  Female   27          PhD   Management            73.357          0   \n",
       "4     Male   26      Masters  Engineering            99.464          1   \n",
       "9   Female   35      College  Engineering           106.524          1   \n",
       "8   Female   33  High School  Engineering           112.976          1   \n",
       "3     Male   20      Masters        Sales           108.080          0   \n",
       "\n",
       "    Bonus Percentage Active     Performance  Basepay in1000          Rough  \\\n",
       "15              0.07   True     Outstanding           73357             GR   \n",
       "4               0.03   True    Satisfactory           99464  TOTAL BASEPAY   \n",
       "9               0.03  False  Unsatisfactory          106524    NO of Male    \n",
       "8               0.07   True     Outstanding          112976     MAX BASE.P   \n",
       "3               0.07  False     Outstanding          108080    AVERAGE AGE   \n",
       "\n",
       "   Unnamed: 15        Unnamed: 16  \n",
       "15    13:06:00           2.166667  \n",
       "4      1686.63  TotalBP in 1000's  \n",
       "9            6  TotalBP in 1000's  \n",
       "8      112.976  TotalBP in 1000's  \n",
       "3    22.842105  TotalBP in 1000's  "
      ]
     },
     "execution_count": 29,
     "metadata": {},
     "output_type": "execute_result"
    }
   ],
   "source": [
    "data.sample(5)"
   ]
  },
  {
   "cell_type": "code",
   "execution_count": 38,
   "id": "43cb396d-b84a-4279-b7d2-fc79abb5163b",
   "metadata": {},
   "outputs": [
    {
     "data": {
      "text/plain": [
       "0      1\n",
       "1     21\n",
       "2     19\n",
       "3     20\n",
       "4     26\n",
       "5     20\n",
       "6     20\n",
       "7     18\n",
       "8     33\n",
       "9     35\n",
       "10    24\n",
       "11    18\n",
       "12    19\n",
       "13    30\n",
       "14    35\n",
       "15    27\n",
       "16    23\n",
       "17    24\n",
       "18    21\n",
       "Name: Age, dtype: int64"
      ]
     },
     "execution_count": 38,
     "metadata": {},
     "output_type": "execute_result"
    }
   ],
   "source": [
    "data.Age"
   ]
  },
  {
   "cell_type": "code",
   "execution_count": null,
   "id": "0ec8056a-a0a4-46ef-86df-1fcf65d067e6",
   "metadata": {},
   "outputs": [],
   "source": []
  }
 ],
 "metadata": {
  "kernelspec": {
   "display_name": "Python 3 (ipykernel)",
   "language": "python",
   "name": "python3"
  },
  "language_info": {
   "codemirror_mode": {
    "name": "ipython",
    "version": 3
   },
   "file_extension": ".py",
   "mimetype": "text/x-python",
   "name": "python",
   "nbconvert_exporter": "python",
   "pygments_lexer": "ipython3",
   "version": "3.11.7"
  }
 },
 "nbformat": 4,
 "nbformat_minor": 5
}
